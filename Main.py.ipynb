{
 "cells": [
  {
   "cell_type": "code",
   "execution_count": 41,
   "id": "fd5fcfca",
   "metadata": {
    "ExecuteTime": {
     "end_time": "2023-02-19T12:02:30.447683Z",
     "start_time": "2023-02-19T12:02:29.694596Z"
    }
   },
   "outputs": [],
   "source": [
    "import requests\n",
    "import bs4\n",
    "import re\n",
    "import pandas"
   ]
  },
  {
   "cell_type": "code",
   "execution_count": 50,
   "id": "0979cf48",
   "metadata": {
    "ExecuteTime": {
     "end_time": "2023-02-19T12:08:07.927068Z",
     "start_time": "2023-02-19T12:08:07.888189Z"
    }
   },
   "outputs": [],
   "source": [
    "Data = pandas.DataFrame()"
   ]
  },
  {
   "cell_type": "code",
   "execution_count": 2,
   "id": "453b18f1",
   "metadata": {
    "ExecuteTime": {
     "end_time": "2023-02-19T11:41:31.101757Z",
     "start_time": "2023-02-19T11:41:31.081273Z"
    }
   },
   "outputs": [],
   "source": [
    "list_of_buses=[]"
   ]
  },
  {
   "cell_type": "code",
   "execution_count": null,
   "id": "9a4505d5",
   "metadata": {},
   "outputs": [],
   "source": []
  },
  {
   "cell_type": "code",
   "execution_count": null,
   "id": "4e30528a",
   "metadata": {},
   "outputs": [],
   "source": []
  },
  {
   "cell_type": "code",
   "execution_count": 3,
   "id": "64138a29",
   "metadata": {
    "ExecuteTime": {
     "end_time": "2023-02-19T11:42:07.371012Z",
     "start_time": "2023-02-19T11:42:06.870590Z"
    }
   },
   "outputs": [],
   "source": [
    "request=requests.get(\"https://moovitapp.com/index/en/public_transit-lines-Mumbai-3732-1016766\")\n",
    "content=bs4.BeautifulSoup(request.content)\n"
   ]
  },
  {
   "cell_type": "code",
   "execution_count": 5,
   "id": "96b3d5a7",
   "metadata": {
    "ExecuteTime": {
     "end_time": "2023-02-19T11:42:59.757624Z",
     "start_time": "2023-02-19T11:42:59.746622Z"
    }
   },
   "outputs": [],
   "source": [
    "buses=content.find_all(\"li\",class_=\"line-item line-data mobile-line\")"
   ]
  },
  {
   "cell_type": "code",
   "execution_count": 13,
   "id": "34b03894",
   "metadata": {
    "ExecuteTime": {
     "end_time": "2023-02-19T11:45:05.471753Z",
     "start_time": "2023-02-19T11:45:05.451695Z"
    },
    "scrolled": false
   },
   "outputs": [],
   "source": [
    "for bus in buses:\n",
    "    list_of_buses.append(bus.find_all('a')[0]['href'])"
   ]
  },
  {
   "cell_type": "code",
   "execution_count": 14,
   "id": "10eecddf",
   "metadata": {
    "ExecuteTime": {
     "end_time": "2023-02-19T11:45:09.665346Z",
     "start_time": "2023-02-19T11:45:09.649860Z"
    }
   },
   "outputs": [
    {
     "data": {
      "text/plain": [
       "['https://moovitapp.com/index/en/public_transit-line-2-Mumbai-3732-1016766-612150-0',\n",
       " 'https://moovitapp.com/index/en/public_transit-line-2_EXT-Mumbai-3732-1016766-39227083-0',\n",
       " 'https://moovitapp.com/index/en/public_transit-line-3-Mumbai-3732-1016766-93465383-0',\n",
       " 'https://moovitapp.com/index/en/public_transit-line-3-Mumbai-3732-1016766-85827747-0',\n",
       " 'https://moovitapp.com/index/en/public_transit-line-4-Mumbai-3732-1016766-100916258-0',\n",
       " 'https://moovitapp.com/index/en/public_transit-line-4_EXT-Mumbai-3732-1016766-39766981-0',\n",
       " 'https://moovitapp.com/index/en/public_transit-line-5-Mumbai-3732-1016766-90926258-0',\n",
       " 'https://moovitapp.com/index/en/public_transit-line-5-Mumbai-3732-1016766-92432816-0',\n",
       " 'https://moovitapp.com/index/en/public_transit-line-7-Mumbai-3732-1016766-49019722-0',\n",
       " 'https://moovitapp.com/index/en/public_transit-line-10-Mumbai-3732-1016766-612157-0',\n",
       " 'https://moovitapp.com/index/en/public_transit-line-11-Mumbai-3732-1016766-87012132-0',\n",
       " 'https://moovitapp.com/index/en/public_transit-line-11-Mumbai-3732-1016766-93465390-0',\n",
       " 'https://moovitapp.com/index/en/public_transit-line-11-Mumbai-3732-1016766-93465389-0',\n",
       " 'https://moovitapp.com/index/en/public_transit-line-12-Mumbai-3732-1016766-612159-0',\n",
       " 'https://moovitapp.com/index/en/public_transit-line-13-Mumbai-3732-1016766-121073842-0',\n",
       " 'https://moovitapp.com/index/en/public_transit-line-13-Mumbai-3732-1016766-121073846-0',\n",
       " 'https://moovitapp.com/index/en/public_transit-line-13-Mumbai-3732-1016766-121073843-0',\n",
       " 'https://moovitapp.com/index/en/public_transit-line-13-Mumbai-3732-1016766-121073845-0',\n",
       " 'https://moovitapp.com/index/en/public_transit-line-13-Mumbai-3732-1016766-121073844-0',\n",
       " 'https://moovitapp.com/index/en/public_transit-line-17-Mumbai-3732-1016766-49019733-0',\n",
       " 'https://moovitapp.com/index/en/public_transit-line-18-Mumbai-3732-1016766-49019734-0',\n",
       " 'https://moovitapp.com/index/en/public_transit-line-24-Mumbai-3732-1016766-612168-0',\n",
       " 'https://moovitapp.com/index/en/public_transit-line-26-Mumbai-3732-1016766-100916271-0',\n",
       " 'https://moovitapp.com/index/en/public_transit-line-26-Mumbai-3732-1016766-93465396-0',\n",
       " 'https://moovitapp.com/index/en/public_transit-line-27-Mumbai-3732-1016766-612170-0',\n",
       " 'https://moovitapp.com/index/en/public_transit-line-30-Mumbai-3732-1016766-49110076-0',\n",
       " 'https://moovitapp.com/index/en/public_transit-line-31-Mumbai-3732-1016766-49110078-0',\n",
       " 'https://moovitapp.com/index/en/public_transit-line-31-Mumbai-3732-1016766-49110079-0',\n",
       " 'https://moovitapp.com/index/en/public_transit-line-32-Mumbai-3732-1016766-68971394-0',\n",
       " 'https://moovitapp.com/index/en/public_transit-line-34-Mumbai-3732-1016766-49110084-0',\n",
       " 'https://moovitapp.com/index/en/public_transit-line-41-Mumbai-3732-1016766-612177-0',\n",
       " 'https://moovitapp.com/index/en/public_transit-line-43-Mumbai-3732-1016766-100916279-0',\n",
       " 'https://moovitapp.com/index/en/public_transit-line-45-Mumbai-3732-1016766-68971406-0',\n",
       " 'https://moovitapp.com/index/en/public_transit-line-45-Mumbai-3732-1016766-85537940-0',\n",
       " 'https://moovitapp.com/index/en/public_transit-line-46-Mumbai-3732-1016766-38474113-0',\n",
       " 'https://moovitapp.com/index/en/public_transit-line-47-Mumbai-3732-1016766-87325996-0',\n",
       " 'https://moovitapp.com/index/en/public_transit-line-47-Mumbai-3732-1016766-87325997-0',\n",
       " 'https://moovitapp.com/index/en/public_transit-line-47_EXT-Mumbai-3732-1016766-39766988-0',\n",
       " 'https://moovitapp.com/index/en/public_transit-line-47_EXT-Mumbai-3732-1016766-39682340-0',\n",
       " 'https://moovitapp.com/index/en/public_transit-line-47_EXT-Mumbai-3732-1016766-39766993-0',\n",
       " 'https://moovitapp.com/index/en/public_transit-line-47_EXT-Mumbai-3732-1016766-49110168-0',\n",
       " 'https://moovitapp.com/index/en/public_transit-line-47_EXT-Mumbai-3732-1016766-39766991-0',\n",
       " 'https://moovitapp.com/index/en/public_transit-line-47_EXT-Mumbai-3732-1016766-56901951-0',\n",
       " 'https://moovitapp.com/index/en/public_transit-line-48-Mumbai-3732-1016766-67305984-0',\n",
       " 'https://moovitapp.com/index/en/public_transit-line-48-Mumbai-3732-1016766-67305983-0',\n",
       " 'https://moovitapp.com/index/en/public_transit-line-48-Mumbai-3732-1016766-112478794-0',\n",
       " 'https://moovitapp.com/index/en/public_transit-line-49-Mumbai-3732-1016766-85258909-0',\n",
       " 'https://moovitapp.com/index/en/public_transit-line-49-Mumbai-3732-1016766-64614703-0',\n",
       " 'https://moovitapp.com/index/en/public_transit-line-49-Mumbai-3732-1016766-64463689-0',\n",
       " 'https://moovitapp.com/index/en/public_transit-line-50-Mumbai-3732-1016766-45901688-0',\n",
       " 'https://moovitapp.com/index/en/public_transit-line-50-Mumbai-3732-1016766-49110097-0',\n",
       " 'https://moovitapp.com/index/en/public_transit-line-50-Mumbai-3732-1016766-39766925-0',\n",
       " 'https://moovitapp.com/index/en/public_transit-line-53-Mumbai-3732-1016766-100916294-0',\n",
       " 'https://moovitapp.com/index/en/public_transit-line-53-Mumbai-3732-1016766-100916293-0',\n",
       " 'https://moovitapp.com/index/en/public_transit-line-54-Mumbai-3732-1016766-100916295-0',\n",
       " 'https://moovitapp.com/index/en/public_transit-line-56-Mumbai-3732-1016766-612188-0',\n",
       " 'https://moovitapp.com/index/en/public_transit-line-57-Mumbai-3732-1016766-87484742-0',\n",
       " 'https://moovitapp.com/index/en/public_transit-line-58-Mumbai-3732-1016766-87484745-0',\n",
       " 'https://moovitapp.com/index/en/public_transit-line-58-Mumbai-3732-1016766-70523706-0',\n",
       " 'https://moovitapp.com/index/en/public_transit-line-58-Mumbai-3732-1016766-87484743-0',\n",
       " 'https://moovitapp.com/index/en/public_transit-line-58-Mumbai-3732-1016766-87484744-0',\n",
       " 'https://moovitapp.com/index/en/public_transit-line-59-Mumbai-3732-1016766-85511570-0',\n",
       " 'https://moovitapp.com/index/en/public_transit-line-59-Mumbai-3732-1016766-85511571-0',\n",
       " 'https://moovitapp.com/index/en/public_transit-line-60-Mumbai-3732-1016766-612192-0',\n",
       " 'https://moovitapp.com/index/en/public_transit-line-64-Mumbai-3732-1016766-111334665-0',\n",
       " 'https://moovitapp.com/index/en/public_transit-line-64-Mumbai-3732-1016766-49110116-0',\n",
       " 'https://moovitapp.com/index/en/public_transit-line-64_EXT-Mumbai-3732-1016766-56777479-0',\n",
       " 'https://moovitapp.com/index/en/public_transit-line-66-Mumbai-3732-1016766-71854669-0',\n",
       " 'https://moovitapp.com/index/en/public_transit-line-71-Mumbai-3732-1016766-612195-0',\n",
       " 'https://moovitapp.com/index/en/public_transit-line-73-Mumbai-3732-1016766-111334669-0',\n",
       " 'https://moovitapp.com/index/en/public_transit-line-73-Mumbai-3732-1016766-45559886-0',\n",
       " 'https://moovitapp.com/index/en/public_transit-line-75-Mumbai-3732-1016766-612196-0',\n",
       " 'https://moovitapp.com/index/en/public_transit-line-76-Mumbai-3732-1016766-612197-0',\n",
       " 'https://moovitapp.com/index/en/public_transit-line-77-Mumbai-3732-1016766-645861-0',\n",
       " 'https://moovitapp.com/index/en/public_transit-line-82-Mumbai-3732-1016766-49110130-0',\n",
       " 'https://moovitapp.com/index/en/public_transit-line-83-Mumbai-3732-1016766-612199-0',\n",
       " 'https://moovitapp.com/index/en/public_transit-line-86-Mumbai-3732-1016766-66688004-0',\n",
       " 'https://moovitapp.com/index/en/public_transit-line-103-Mumbai-3732-1016766-612202-0',\n",
       " 'https://moovitapp.com/index/en/public_transit-line-106-Mumbai-3732-1016766-67648469-0',\n",
       " 'https://moovitapp.com/index/en/public_transit-line-109-Mumbai-3732-1016766-90194133-0',\n",
       " 'https://moovitapp.com/index/en/public_transit-line-113-Mumbai-3732-1016766-73401466-0']"
      ]
     },
     "execution_count": 14,
     "metadata": {},
     "output_type": "execute_result"
    }
   ],
   "source": [
    "list_of_buses"
   ]
  },
  {
   "cell_type": "code",
   "execution_count": null,
   "id": "16201b81",
   "metadata": {},
   "outputs": [],
   "source": [
    "Data['links']=list_of_buses"
   ]
  },
  {
   "cell_type": "code",
   "execution_count": 51,
   "id": "2b3c495c",
   "metadata": {
    "ExecuteTime": {
     "end_time": "2023-02-19T12:14:35.285169Z",
     "start_time": "2023-02-19T12:13:47.235727Z"
    }
   },
   "outputs": [],
   "source": [
    "bus_numbers=[]\n",
    "routes=[]\n",
    "timings=[]\n",
    "frequency_times=[]\n",
    "number_of_stops=[]\n",
    "\n",
    "for bus_link in list_of_buses:\n",
    "    print(bus_link)\n",
    "    request=requests.get(bus_link)\n",
    "    content=bs4.BeautifulSoup(request.content)\n",
    "    result=content.find_all(\"h1\",class_=\"text\")\n",
    "    bus_numbers.append(result[0].text)\n",
    "    result=content.find_all(\"h2\",class_=\"title\")\n",
    "    routes.append(result[0].text)\n",
    "    result=content.find_all(\"table\",class_=\"schedule-table short departure-frequency\")\n",
    "    timings.append(result[0].find_all(\"td\")[1].text)\n",
    "    frequency_times.append(result[0].find_all(\"td\")[2].text)\n",
    "    result=content.find_all(\"div\",class_=\"stops-header\")\n",
    "    number_of_stops.append(result[0].find_all(\"h2\")[0].text.split(\"(\")[-1].split()[0])\n",
    "Data['bus_number']=bus_numbers\n",
    "Data['routes']=routes\n",
    "Data['timing']=timings\n",
    "Data['frequency_in_minutes']=frequency_times\n",
    "Data['number_of_stops']=number_of_stops"
   ]
  },
  {
   "cell_type": "code",
   "execution_count": 52,
   "id": "fc4b1894",
   "metadata": {
    "ExecuteTime": {
     "end_time": "2023-02-19T12:14:42.109910Z",
     "start_time": "2023-02-19T12:14:42.076486Z"
    }
   },
   "outputs": [
    {
     "data": {
      "text/html": [
       "<div>\n",
       "<style scoped>\n",
       "    .dataframe tbody tr th:only-of-type {\n",
       "        vertical-align: middle;\n",
       "    }\n",
       "\n",
       "    .dataframe tbody tr th {\n",
       "        vertical-align: top;\n",
       "    }\n",
       "\n",
       "    .dataframe thead th {\n",
       "        text-align: right;\n",
       "    }\n",
       "</style>\n",
       "<table border=\"1\" class=\"dataframe\">\n",
       "  <thead>\n",
       "    <tr style=\"text-align: right;\">\n",
       "      <th></th>\n",
       "      <th>bus_number</th>\n",
       "      <th>routes</th>\n",
       "      <th>timing</th>\n",
       "      <th>frequency_in_minutes</th>\n",
       "      <th>number_of_stops</th>\n",
       "    </tr>\n",
       "  </thead>\n",
       "  <tbody>\n",
       "    <tr>\n",
       "      <th>0</th>\n",
       "      <td>2 Line</td>\n",
       "      <td>Airoli Sector-10 (Dr.Babasaheb Ambedkar Bhavan...</td>\n",
       "      <td>8:15 AM - 7:50 PM</td>\n",
       "      <td>35 min</td>\n",
       "      <td>33</td>\n",
       "    </tr>\n",
       "    <tr>\n",
       "      <th>1</th>\n",
       "      <td>2-EXT Line</td>\n",
       "      <td>Purna Gaon</td>\n",
       "      <td>6:50 AM - 7:50 PM</td>\n",
       "      <td>25 min</td>\n",
       "      <td>21</td>\n",
       "    </tr>\n",
       "    <tr>\n",
       "      <th>2</th>\n",
       "      <td>3 Line</td>\n",
       "      <td>Koparkhairane Bus Station</td>\n",
       "      <td>7:18 AM - 8:05 PM</td>\n",
       "      <td>20 min</td>\n",
       "      <td>48</td>\n",
       "    </tr>\n",
       "    <tr>\n",
       "      <th>3</th>\n",
       "      <td>3 Line</td>\n",
       "      <td>Ghansoli Depot</td>\n",
       "      <td>7:37 PM - 8:52 PM</td>\n",
       "      <td>35 min</td>\n",
       "      <td>9</td>\n",
       "    </tr>\n",
       "    <tr>\n",
       "      <th>4</th>\n",
       "      <td>4 Line</td>\n",
       "      <td>Thane</td>\n",
       "      <td>6:00 AM - 9:45 PM</td>\n",
       "      <td>33 min</td>\n",
       "      <td>58</td>\n",
       "    </tr>\n",
       "    <tr>\n",
       "      <th>...</th>\n",
       "      <td>...</td>\n",
       "      <td>...</td>\n",
       "      <td>...</td>\n",
       "      <td>...</td>\n",
       "      <td>...</td>\n",
       "    </tr>\n",
       "    <tr>\n",
       "      <th>76</th>\n",
       "      <td>86 Line</td>\n",
       "      <td>Airoli Bus Station - Diva Railway Station Via ...</td>\n",
       "      <td>6:45 AM - 9:15 PM</td>\n",
       "      <td>25 min</td>\n",
       "      <td>76</td>\n",
       "    </tr>\n",
       "    <tr>\n",
       "      <th>77</th>\n",
       "      <td>103 Line</td>\n",
       "      <td>Panvel Railway Station - Hindmata Cinema (Dadar)</td>\n",
       "      <td>Not Operational</td>\n",
       "      <td>Not Operational</td>\n",
       "      <td>72</td>\n",
       "    </tr>\n",
       "    <tr>\n",
       "      <th>78</th>\n",
       "      <td>106 Line</td>\n",
       "      <td>Panvel Railway Station (W) - World Trade Centre</td>\n",
       "      <td>Not Operational</td>\n",
       "      <td>Not Operational</td>\n",
       "      <td>69</td>\n",
       "    </tr>\n",
       "    <tr>\n",
       "      <th>79</th>\n",
       "      <td>109 Line</td>\n",
       "      <td>Digha Gaon - Nahur Railway Station</td>\n",
       "      <td>Not Operational</td>\n",
       "      <td>Not Operational</td>\n",
       "      <td>24</td>\n",
       "    </tr>\n",
       "    <tr>\n",
       "      <th>80</th>\n",
       "      <td>113 Line</td>\n",
       "      <td>Nahur Railway Station - L &amp; T Circle Mahape</td>\n",
       "      <td>7:00 AM - 7:20 PM</td>\n",
       "      <td>20 min</td>\n",
       "      <td>30</td>\n",
       "    </tr>\n",
       "  </tbody>\n",
       "</table>\n",
       "<p>81 rows × 5 columns</p>\n",
       "</div>"
      ],
      "text/plain": [
       "    bus_number                                             routes  \\\n",
       "0       2 Line  Airoli Sector-10 (Dr.Babasaheb Ambedkar Bhavan...   \n",
       "1   2-EXT Line                                         Purna Gaon   \n",
       "2       3 Line                          Koparkhairane Bus Station   \n",
       "3       3 Line                                     Ghansoli Depot   \n",
       "4       4 Line                                              Thane   \n",
       "..         ...                                                ...   \n",
       "76     86 Line  Airoli Bus Station - Diva Railway Station Via ...   \n",
       "77    103 Line   Panvel Railway Station - Hindmata Cinema (Dadar)   \n",
       "78    106 Line    Panvel Railway Station (W) - World Trade Centre   \n",
       "79    109 Line                 Digha Gaon - Nahur Railway Station   \n",
       "80    113 Line        Nahur Railway Station - L & T Circle Mahape   \n",
       "\n",
       "               timing frequency_in_minutes number_of_stops  \n",
       "0   8:15 AM - 7:50 PM               35 min              33  \n",
       "1   6:50 AM - 7:50 PM               25 min              21  \n",
       "2   7:18 AM - 8:05 PM               20 min              48  \n",
       "3   7:37 PM - 8:52 PM               35 min               9  \n",
       "4   6:00 AM - 9:45 PM               33 min              58  \n",
       "..                ...                  ...             ...  \n",
       "76  6:45 AM - 9:15 PM               25 min              76  \n",
       "77    Not Operational      Not Operational              72  \n",
       "78    Not Operational      Not Operational              69  \n",
       "79    Not Operational      Not Operational              24  \n",
       "80  7:00 AM - 7:20 PM               20 min              30  \n",
       "\n",
       "[81 rows x 5 columns]"
      ]
     },
     "execution_count": 52,
     "metadata": {},
     "output_type": "execute_result"
    }
   ],
   "source": [
    "Data"
   ]
  },
  {
   "cell_type": "code",
   "execution_count": 55,
   "id": "c83a9da7",
   "metadata": {
    "ExecuteTime": {
     "end_time": "2023-02-19T12:16:59.315561Z",
     "start_time": "2023-02-19T12:16:59.001918Z"
    }
   },
   "outputs": [],
   "source": [
    "Data.to_csv(\"Buses_Data.csv\",index=False)\n",
    "Data.to_excel(\"Buses_Data.xlsx\",index=False)"
   ]
  },
  {
   "cell_type": "code",
   "execution_count": null,
   "id": "74d15daf",
   "metadata": {},
   "outputs": [],
   "source": []
  },
  {
   "cell_type": "code",
   "execution_count": 15,
   "id": "a30e4f16",
   "metadata": {
    "ExecuteTime": {
     "end_time": "2023-02-19T11:46:17.925516Z",
     "start_time": "2023-02-19T11:46:17.139087Z"
    }
   },
   "outputs": [],
   "source": [
    "request=requests.get(list_of_buses[0])\n",
    "content=bs4.BeautifulSoup(request.content)"
   ]
  },
  {
   "cell_type": "code",
   "execution_count": 23,
   "id": "6448910c",
   "metadata": {
    "ExecuteTime": {
     "end_time": "2023-02-19T11:51:43.586367Z",
     "start_time": "2023-02-19T11:51:43.575818Z"
    }
   },
   "outputs": [],
   "source": [
    "result=content.find_all(\"h1\",class_=\"text\")"
   ]
  },
  {
   "cell_type": "code",
   "execution_count": 18,
   "id": "6e79d468",
   "metadata": {
    "ExecuteTime": {
     "end_time": "2023-02-19T11:50:48.788307Z",
     "start_time": "2023-02-19T11:50:48.771306Z"
    }
   },
   "outputs": [
    {
     "data": {
      "text/plain": [
       "81"
      ]
     },
     "execution_count": 18,
     "metadata": {},
     "output_type": "execute_result"
    }
   ],
   "source": [
    "len(list_of_buses)"
   ]
  },
  {
   "cell_type": "code",
   "execution_count": 24,
   "id": "452662bc",
   "metadata": {
    "ExecuteTime": {
     "end_time": "2023-02-19T11:51:45.612494Z",
     "start_time": "2023-02-19T11:51:45.591495Z"
    }
   },
   "outputs": [
    {
     "data": {
      "text/plain": [
       "'2 Line'"
      ]
     },
     "execution_count": 24,
     "metadata": {},
     "output_type": "execute_result"
    }
   ],
   "source": [
    "result[0].text"
   ]
  },
  {
   "cell_type": "code",
   "execution_count": 26,
   "id": "8c01d1cb",
   "metadata": {
    "ExecuteTime": {
     "end_time": "2023-02-19T11:51:55.298144Z",
     "start_time": "2023-02-19T11:51:55.276498Z"
    }
   },
   "outputs": [],
   "source": [
    "result=content.find_all(\"h2\",class_=\"title\")"
   ]
  },
  {
   "cell_type": "code",
   "execution_count": 27,
   "id": "229e4e82",
   "metadata": {
    "ExecuteTime": {
     "end_time": "2023-02-19T11:51:55.657923Z",
     "start_time": "2023-02-19T11:51:55.636735Z"
    }
   },
   "outputs": [
    {
     "data": {
      "text/plain": [
       "'Airoli Sector-10 (Dr.Babasaheb Ambedkar Bhavan) - Thane'"
      ]
     },
     "execution_count": 27,
     "metadata": {},
     "output_type": "execute_result"
    }
   ],
   "source": [
    "result[0].text"
   ]
  },
  {
   "cell_type": "code",
   "execution_count": 28,
   "id": "c69e2844",
   "metadata": {
    "ExecuteTime": {
     "end_time": "2023-02-19T11:53:34.789295Z",
     "start_time": "2023-02-19T11:53:34.778296Z"
    }
   },
   "outputs": [],
   "source": [
    "result=content.find_all(\"table\",class_=\"schedule-table short departure-frequency\")"
   ]
  },
  {
   "cell_type": "code",
   "execution_count": 31,
   "id": "84e9d4c5",
   "metadata": {
    "ExecuteTime": {
     "end_time": "2023-02-19T11:54:12.494350Z",
     "start_time": "2023-02-19T11:54:12.477355Z"
    }
   },
   "outputs": [
    {
     "data": {
      "text/plain": [
       "'8:15 AM - 7:50 PM'"
      ]
     },
     "execution_count": 31,
     "metadata": {},
     "output_type": "execute_result"
    }
   ],
   "source": [
    "result[0].find_all(\"td\")[1].text"
   ]
  },
  {
   "cell_type": "code",
   "execution_count": 32,
   "id": "febd0e04",
   "metadata": {
    "ExecuteTime": {
     "end_time": "2023-02-19T11:54:20.469789Z",
     "start_time": "2023-02-19T11:54:20.457778Z"
    }
   },
   "outputs": [
    {
     "data": {
      "text/plain": [
       "'35 min'"
      ]
     },
     "execution_count": 32,
     "metadata": {},
     "output_type": "execute_result"
    }
   ],
   "source": [
    "result[0].find_all(\"td\")[2].text"
   ]
  },
  {
   "cell_type": "code",
   "execution_count": 35,
   "id": "8f5837ce",
   "metadata": {
    "ExecuteTime": {
     "end_time": "2023-02-19T11:59:28.494482Z",
     "start_time": "2023-02-19T11:59:28.471483Z"
    }
   },
   "outputs": [],
   "source": [
    "result=content.find_all(\"div\",class_=\"stops-header\")"
   ]
  },
  {
   "cell_type": "code",
   "execution_count": 49,
   "id": "03fa3c21",
   "metadata": {
    "ExecuteTime": {
     "end_time": "2023-02-19T12:07:51.499428Z",
     "start_time": "2023-02-19T12:07:51.479456Z"
    }
   },
   "outputs": [
    {
     "data": {
      "text/plain": [
       "'33'"
      ]
     },
     "execution_count": 49,
     "metadata": {},
     "output_type": "execute_result"
    }
   ],
   "source": [
    "result[0].find_all(\"h2\")[0].text.split(\"(\")[-1].split()[0]"
   ]
  },
  {
   "cell_type": "code",
   "execution_count": null,
   "id": "aea90f1e",
   "metadata": {},
   "outputs": [],
   "source": []
  }
 ],
 "metadata": {
  "hide_input": false,
  "kernelspec": {
   "display_name": "Python 3 (ipykernel)",
   "language": "python",
   "name": "python3"
  },
  "language_info": {
   "codemirror_mode": {
    "name": "ipython",
    "version": 3
   },
   "file_extension": ".py",
   "mimetype": "text/x-python",
   "name": "python",
   "nbconvert_exporter": "python",
   "pygments_lexer": "ipython3",
   "version": "3.10.8"
  }
 },
 "nbformat": 4,
 "nbformat_minor": 5
}
